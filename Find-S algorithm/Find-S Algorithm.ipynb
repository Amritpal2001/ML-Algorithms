{
 "cells": [
  {
   "cell_type": "code",
   "execution_count": 38,
   "id": "white-inflation",
   "metadata": {},
   "outputs": [],
   "source": [
    "import pandas as pd\n",
    "import numpy as np"
   ]
  },
  {
   "cell_type": "code",
   "execution_count": 39,
   "id": "curious-aberdeen",
   "metadata": {},
   "outputs": [
    {
     "name": "stdout",
     "output_type": "stream",
     "text": [
      "      Sky  Temp   Humid    Wind Water Goes\n",
      "0   Sunny  Warm  Normal  Strong  Warm  Yes\n",
      "1   Sunny  Warm    High  Strong  Warm  Yes\n",
      "2   Rainy  Cold    High  Strong  Warm   No\n",
      "3   Sunny  Warm    High  Strong  Cool  Yes\n",
      "4   Sunny  Warm    High    Weak  Warm   No\n",
      "5  Cloudy  Cold     Low    Weak  Cool   No\n"
     ]
    }
   ],
   "source": [
    "dfx = pd.read_csv(\"train.csv\")\n",
    "print(dfx)\n",
    "dataset = dfx.values"
   ]
  },
  {
   "cell_type": "code",
   "execution_count": 40,
   "id": "passive-dallas",
   "metadata": {},
   "outputs": [],
   "source": [
    "res = []\n",
    "n = dataset.shape[1]-1\n",
    "for i in range(n):\n",
    "    res.append('Φ')"
   ]
  },
  {
   "cell_type": "code",
   "execution_count": 41,
   "id": "distinct-particle",
   "metadata": {},
   "outputs": [
    {
     "name": "stdout",
     "output_type": "stream",
     "text": [
      "The initial value of hypothesis:\n",
      "['Φ', 'Φ', 'Φ', 'Φ', 'Φ']\n",
      "\n",
      "['Sunny', 'Warm', 'Normal', 'Strong', 'Warm']\n",
      "['Sunny', 'Warm', '?', 'Strong', 'Warm']\n",
      "['Sunny', 'Warm', '?', 'Strong', 'Warm']\n",
      "['Sunny', 'Warm', '?', 'Strong', '?']\n",
      "['Sunny', 'Warm', '?', 'Strong', '?']\n",
      "['Sunny', 'Warm', '?', 'Strong', '?']\n",
      "\n",
      "Final Hyposthesis :  ['Sunny', 'Warm', '?', 'Strong', '?']\n"
     ]
    }
   ],
   "source": [
    "print(\"The initial value of hypothesis:\")\n",
    "print(res)\n",
    "print()\n",
    "for i in dataset:\n",
    "    if i[-1] == 'Yes':\n",
    "        for j in range(len(i)-1):\n",
    "            if(res[j] == '?'):\n",
    "                pass\n",
    "            elif (res[j] == i[j]) or (res[j]=='Φ'):\n",
    "                res[j] = i[j];\n",
    "            else:\n",
    "                res[j] = '?'\n",
    "        print(res)\n",
    "    else:\n",
    "        print(res)\n",
    "        \n",
    "print(\"\\nFinal Hyposthesis : \",res)"
   ]
  },
  {
   "cell_type": "code",
   "execution_count": 42,
   "id": "marine-bride",
   "metadata": {},
   "outputs": [
    {
     "name": "stdout",
     "output_type": "stream",
     "text": [
      "Predictions\n",
      "\n",
      "      Sky  Temp Humid    Wind Water Goes\n",
      "0   Sunny  Warm  High  Strong  Cool  Yes\n",
      "1   Sunny  Cold  High  Strong  Cool   No\n",
      "2  Cloudy  Warm  High    Weak  Cool   No\n",
      "3   Sunny  Warm   Low  Strong  Warm  Yes\n",
      "4  Cloudy  Cold   Low  Strong  Warm   No\n",
      "\n",
      "True\n",
      "False\n",
      "False\n",
      "True\n",
      "False\n"
     ]
    }
   ],
   "source": [
    "print(\"Predictions\\n\")\n",
    "dfx = pd.read_csv(\"test.csv\")\n",
    "print(dfx)\n",
    "print()\n",
    "dataset = dfx.values\n",
    "for i in dataset:\n",
    "    flag = 1\n",
    "    for j in range(len(i)-1):\n",
    "        if res[j]=='?':\n",
    "            continue\n",
    "        if(res[j]!=i[j]):\n",
    "            flag = 0\n",
    "            break\n",
    "    if(flag):\n",
    "        print(\"True\")\n",
    "    else:\n",
    "        print(\"False\")"
   ]
  },
  {
   "cell_type": "code",
   "execution_count": null,
   "id": "raised-daily",
   "metadata": {},
   "outputs": [],
   "source": []
  },
  {
   "cell_type": "code",
   "execution_count": null,
   "id": "immediate-weekend",
   "metadata": {},
   "outputs": [],
   "source": []
  }
 ],
 "metadata": {
  "kernelspec": {
   "display_name": "Python 3",
   "language": "python",
   "name": "python3"
  },
  "language_info": {
   "codemirror_mode": {
    "name": "ipython",
    "version": 3
   },
   "file_extension": ".py",
   "mimetype": "text/x-python",
   "name": "python",
   "nbconvert_exporter": "python",
   "pygments_lexer": "ipython3",
   "version": "3.9.1"
  }
 },
 "nbformat": 4,
 "nbformat_minor": 5
}
