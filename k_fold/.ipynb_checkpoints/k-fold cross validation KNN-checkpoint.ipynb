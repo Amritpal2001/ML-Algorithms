{
 "cells": [
  {
   "cell_type": "code",
   "execution_count": 1,
   "id": "south-broad",
   "metadata": {},
   "outputs": [],
   "source": [
    "import pandas as pd\n",
    "import numpy as np\n",
    "import matplotlib.pyplot as plt\n",
    "from math import sqrt\n",
    "from sklearn.model_selection import KFold"
   ]
  },
  {
   "cell_type": "code",
   "execution_count": 2,
   "id": "romantic-lodge",
   "metadata": {},
   "outputs": [],
   "source": [
    "dfx = pd.read_csv('/Users/amritpalsingh/Downloads/indian_liver_patient.csv')"
   ]
  },
  {
   "cell_type": "code",
   "execution_count": 3,
   "id": "given-supervision",
   "metadata": {
    "scrolled": true
   },
   "outputs": [],
   "source": [
    "dataset = dfx.values\n",
    "temp = int(dataset.shape[0]* 0.8)\n",
    "train_data = dataset[:temp]\n",
    "test_data = dataset[temp:]"
   ]
  },
  {
   "cell_type": "code",
   "execution_count": 4,
   "id": "described-maximum",
   "metadata": {},
   "outputs": [],
   "source": [
    "def get_distance(row1, row2):\n",
    "    dis = 0.0\n",
    "    for i in range(len(row1)-1):\n",
    "        dis+=(row1[i] - row2[i])**2\n",
    "    return sqrt(dis)"
   ]
  },
  {
   "cell_type": "code",
   "execution_count": 5,
   "id": "embedded-weekend",
   "metadata": {},
   "outputs": [],
   "source": [
    "def get_neighbours(data , test_row , k):\n",
    "    distances=[]\n",
    "    for i in data:\n",
    "        dis = get_distance(test_row, i)\n",
    "        distances.append((i,dis))\n",
    "    distances.sort(key = lambda x: x[1])\n",
    "    neighbours = []\n",
    "    for i in range(k):\n",
    "        neighbours.append(distances[i][0])\n",
    "    return neighbours\n",
    "    "
   ]
  },
  {
   "cell_type": "code",
   "execution_count": 6,
   "id": "rational-worse",
   "metadata": {},
   "outputs": [],
   "source": [
    "def knn(train_data , test_row , k):\n",
    "    neighbours = get_neighbours(train_data , test_row,k)\n",
    "    output_values = [row[-1] for row in neighbours]\n",
    "    prediction = max(set(output_values), key=output_values.count)\n",
    "    return prediction\n",
    "    "
   ]
  },
  {
   "cell_type": "code",
   "execution_count": 7,
   "id": "suspected-montana",
   "metadata": {},
   "outputs": [],
   "source": [
    "def call_knn(train , test , j):\n",
    "    count = 0\n",
    "    for i in range (len(test)):\n",
    "        res = knn(train , test[i] ,j)\n",
    "        if test[i][-1]== res:\n",
    "            count+=1\n",
    "    return count/len(test)\n",
    "    \n",
    "    "
   ]
  },
  {
   "cell_type": "code",
   "execution_count": 8,
   "id": "light-bennett",
   "metadata": {},
   "outputs": [
    {
     "name": "stdout",
     "output_type": "stream",
     "text": [
      "Value of K for which Accuracy is highest :  24\n"
     ]
    }
   ],
   "source": [
    "Accuracy = {}\n",
    "K_value = 0\n",
    "for K in range(1,50):\n",
    "    temp = []\n",
    "    data = train_data\n",
    "    kfold = KFold(n_splits=4)\n",
    "    kfold.get_n_splits(data)\n",
    "    for train, test in kfold.split(data):\n",
    "        temp.append(call_knn(data[train] , data[test] ,K))\n",
    "    Accuracy[K] = sum(temp)/len(temp)*100\n",
    "K_value = max(Accuracy, key=Accuracy.get)\n",
    "print(\"Value of K for which Accuracy is highest : \",K_value)\n",
    "    \n",
    "    "
   ]
  },
  {
   "cell_type": "code",
   "execution_count": 9,
   "id": "lined-cliff",
   "metadata": {},
   "outputs": [
    {
     "data": {
      "image/png": "[encoded data removed]",
      "text/plain": [
       "<Figure size 432x288 with 1 Axes>"
      ]
     },
     "metadata": {
      "needs_background": "light"
     },
     "output_type": "display_data"
    }
   ],
   "source": [
    "plt.plot(Accuracy.keys() , Accuracy.values())\n",
    "plt.title('Accuracy of KNN algorithm for different values of K using k-fold cross validation')\n",
    "plt.xlabel('K value')\n",
    "plt.ylabel('Accuracy (%)(k-fold)')\n",
    "plt.show()"
   ]
  },
  {
   "cell_type": "code",
   "execution_count": 10,
   "id": "infectious-channel",
   "metadata": {},
   "outputs": [
    {
     "name": "stdout",
     "output_type": "stream",
     "text": [
      "Result: 2, Actual: 2\n",
      "Result: 2, Actual: 2\n",
      "Result: 1, Actual: 1\n",
      "Result: 1, Actual: 1\n",
      "Result: 1, Actual: 1\n",
      "Result: 1, Actual: 2\n",
      "Result: 1, Actual: 2\n",
      "Result: 1, Actual: 2\n",
      "Result: 1, Actual: 2\n",
      "Result: 1, Actual: 2\n",
      "Result: 1, Actual: 1\n",
      "Result: 1, Actual: 1\n",
      "Result: 1, Actual: 1\n",
      "Result: 1, Actual: 1\n",
      "Result: 1, Actual: 2\n",
      "Result: 1, Actual: 1\n",
      "Result: 1, Actual: 1\n",
      "Result: 1, Actual: 2\n",
      "Result: 1, Actual: 1\n",
      "Result: 1, Actual: 1\n",
      "Result: 1, Actual: 1\n",
      "Result: 1, Actual: 1\n",
      "Result: 1, Actual: 2\n",
      "Result: 2, Actual: 2\n",
      "Result: 1, Actual: 1\n",
      "Result: 1, Actual: 2\n",
      "Result: 1, Actual: 1\n",
      "Result: 1, Actual: 2\n",
      "Result: 1, Actual: 1\n",
      "Result: 1, Actual: 2\n",
      "Result: 2, Actual: 1\n",
      "Result: 1, Actual: 1\n",
      "Result: 1, Actual: 1\n",
      "Result: 1, Actual: 1\n",
      "Result: 1, Actual: 1\n",
      "Result: 1, Actual: 1\n",
      "Result: 1, Actual: 1\n",
      "Result: 1, Actual: 1\n",
      "Result: 1, Actual: 1\n",
      "Result: 1, Actual: 1\n",
      "Result: 1, Actual: 1\n",
      "Result: 1, Actual: 1\n",
      "Result: 1, Actual: 1\n",
      "Result: 1, Actual: 1\n",
      "Result: 1, Actual: 2\n",
      "Result: 1, Actual: 1\n",
      "Result: 1, Actual: 2\n",
      "Result: 1, Actual: 1\n",
      "Result: 1, Actual: 1\n",
      "Result: 1, Actual: 1\n",
      "Result: 1, Actual: 1\n",
      "Result: 1, Actual: 1\n",
      "Result: 1, Actual: 1\n",
      "Result: 1, Actual: 1\n",
      "Result: 1, Actual: 1\n",
      "Result: 1, Actual: 1\n",
      "Result: 1, Actual: 1\n",
      "Result: 2, Actual: 1\n",
      "Result: 1, Actual: 2\n",
      "Result: 1, Actual: 2\n",
      "Result: 1, Actual: 1\n",
      "Result: 1, Actual: 1\n",
      "Result: 1, Actual: 1\n",
      "Result: 1, Actual: 1\n",
      "Result: 2, Actual: 2\n",
      "Result: 1, Actual: 1\n",
      "Result: 1, Actual: 2\n",
      "Result: 1, Actual: 1\n",
      "Result: 1, Actual: 2\n",
      "Result: 1, Actual: 1\n",
      "Result: 1, Actual: 1\n",
      "Result: 1, Actual: 1\n",
      "Result: 2, Actual: 1\n",
      "Result: 1, Actual: 2\n",
      "Result: 1, Actual: 2\n",
      "Result: 1, Actual: 2\n",
      "Result: 1, Actual: 2\n",
      "Result: 1, Actual: 1\n",
      "Result: 1, Actual: 1\n",
      "Result: 1, Actual: 2\n",
      "Result: 1, Actual: 1\n",
      "Result: 1, Actual: 1\n",
      "Result: 1, Actual: 1\n",
      "Result: 1, Actual: 1\n",
      "Result: 1, Actual: 1\n",
      "Result: 1, Actual: 2\n",
      "Result: 1, Actual: 1\n",
      "Result: 1, Actual: 1\n",
      "Result: 1, Actual: 1\n",
      "Result: 1, Actual: 1\n",
      "Result: 1, Actual: 1\n",
      "Result: 1, Actual: 1\n",
      "Result: 1, Actual: 1\n",
      "Result: 1, Actual: 1\n",
      "Result: 1, Actual: 1\n",
      "Result: 1, Actual: 1\n",
      "Result: 1, Actual: 1\n",
      "Result: 1, Actual: 1\n",
      "Result: 1, Actual: 2\n",
      "Result: 1, Actual: 1\n",
      "Result: 1, Actual: 2\n",
      "Result: 1, Actual: 1\n",
      "Result: 1, Actual: 1\n",
      "Result: 1, Actual: 1\n",
      "Result: 1, Actual: 1\n",
      "Result: 1, Actual: 1\n",
      "Result: 1, Actual: 1\n",
      "Result: 1, Actual: 1\n",
      "Result: 1, Actual: 1\n",
      "Result: 1, Actual: 1\n",
      "Result: 1, Actual: 1\n",
      "Result: 1, Actual: 1\n",
      "Result: 1, Actual: 2\n",
      "Result: 1, Actual: 1\n",
      "Result: 1, Actual: 1\n",
      "Result: 1, Actual: 1\n",
      "Result: 1, Actual: 2\n"
     ]
    }
   ],
   "source": [
    "count = 0\n",
    "for i in test_data:\n",
    "    res = knn(train_data , i , K_value)\n",
    "    print('Result: %d, Actual: %d' %(res , i[-1]))\n",
    "    if res == i[-1]:\n",
    "        count+=1\n",
    "    "
   ]
  },
  {
   "cell_type": "code",
   "execution_count": 11,
   "id": "blond-penguin",
   "metadata": {},
   "outputs": [
    {
     "name": "stdout",
     "output_type": "stream",
     "text": [
      "Accuracy for training data(unseen) :  74.35897435897436\n"
     ]
    }
   ],
   "source": [
    "print(\"Accuracy for training data(unseen) : \",count/len(test_data)*100)"
   ]
  },
  {
   "cell_type": "code",
   "execution_count": null,
   "id": "charged-viking",
   "metadata": {},
   "outputs": [],
   "source": []
  }
 ],
 "metadata": {
  "kernelspec": {
   "display_name": "Python 3",
   "language": "python",
   "name": "python3"
  },
  "language_info": {
   "codemirror_mode": {
    "name": "ipython",
    "version": 3
   },
   "file_extension": ".py",
   "mimetype": "text/x-python",
   "name": "python",
   "nbconvert_exporter": "python",
   "pygments_lexer": "ipython3",
   "version": "3.9.1"
  }
 },
 "nbformat": 4,
 "nbformat_minor": 5
}
