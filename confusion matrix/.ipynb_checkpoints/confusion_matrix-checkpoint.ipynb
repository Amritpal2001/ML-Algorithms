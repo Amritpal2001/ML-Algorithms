{
 "cells": [
  {
   "cell_type": "code",
   "execution_count": 1,
   "id": "south-broad",
   "metadata": {},
   "outputs": [],
   "source": [
    "import pandas as pd\n",
    "import numpy as np\n",
    "import matplotlib.pyplot as plt\n",
    "from math import sqrt\n",
    "from sklearn.model_selection import KFold\n",
    "import seaborn as sn"
   ]
  },
  {
   "cell_type": "code",
   "execution_count": 220,
   "id": "described-maximum",
   "metadata": {},
   "outputs": [],
   "source": [
    "def get_distance(row1, row2):\n",
    "    dis = 0.0\n",
    "    for i in range(len(row1)-1):\n",
    "        dis+=(row1[i] - row2[i])**2\n",
    "    return sqrt(dis)"
   ]
  },
  {
   "cell_type": "code",
   "execution_count": 221,
   "id": "embedded-weekend",
   "metadata": {},
   "outputs": [],
   "source": [
    "def get_neighbours(data , test_row , k):\n",
    "    distances=[]\n",
    "    for i in data:\n",
    "        dis = get_distance(test_row, i)\n",
    "        distances.append((i,dis))\n",
    "    distances.sort(key = lambda x: x[1])\n",
    "    neighbours = []\n",
    "    for i in range(k):\n",
    "        neighbours.append(distances[i][0])\n",
    "    return neighbours\n",
    "    "
   ]
  },
  {
   "cell_type": "code",
   "execution_count": 222,
   "id": "rational-worse",
   "metadata": {},
   "outputs": [],
   "source": [
    "def knn(train_data , test_row , k):\n",
    "    neighbours = get_neighbours(train_data , test_row,k)\n",
    "    output_values = [row[-1] for row in neighbours]\n",
    "    prediction = max(set(output_values), key=output_values.count)\n",
    "    return prediction\n",
    "    "
   ]
  },
  {
   "cell_type": "code",
   "execution_count": 223,
   "id": "suspected-montana",
   "metadata": {},
   "outputs": [],
   "source": [
    "def call_knn(train , test , j):\n",
    "    count = 0\n",
    "    for i in range (len(test)):\n",
    "        res = knn(train , test[i] ,j)\n",
    "        if test[i][-1]== res:\n",
    "            count+=1\n",
    "    return count/len(test)\n",
    "    \n",
    "    "
   ]
  },
  {
   "cell_type": "code",
   "execution_count": 229,
   "id": "light-bennett",
   "metadata": {},
   "outputs": [],
   "source": [
    "def k_fold(train_data, test_data):    \n",
    "    Accuracy = {}\n",
    "    K_value = 0\n",
    "    for K in range(1,30):\n",
    "        temp = []\n",
    "        data = train_data\n",
    "        kfold = KFold(n_splits=10)\n",
    "        kfold.get_n_splits(data)\n",
    "        for train, test in kfold.split(data):\n",
    "            temp.append(call_knn(data[train] , data[test] ,K))\n",
    "        Accuracy[K] = sum(temp)/len(temp)*100\n",
    "    K_value = max(Accuracy, key=Accuracy.get)\n",
    "#     print(\"Value of K for which Accuracy is highest : \",K_value)\n",
    "    \n",
    "    count = 0\n",
    "    true_values = []\n",
    "    predicted_values = []\n",
    "    for i in test_data:\n",
    "        res = knn(train_data , i , K_value)\n",
    "        true_values.append(i[-1])\n",
    "        predicted_values.append(res)\n",
    "        if res == i[-1]:\n",
    "            count+=1\n",
    "#     print(\"Accuracy for training data : \",count/len(test_data)*100)\n",
    "    return true_values , predicted_values"
   ]
  },
  {
   "cell_type": "code",
   "execution_count": 230,
   "id": "charged-viking",
   "metadata": {},
   "outputs": [],
   "source": [
    "def confusion_matrix_fun(path):\n",
    "    dfx = pd.read_csv(path)\n",
    "    dataset = dfx.values\n",
    "    np.random.shuffle(dataset)\n",
    "    temp = int(dataset.shape[0]* 0.8)\n",
    "    train_data = dataset[:temp]\n",
    "    test_data = dataset[temp:]\n",
    "    labels = list(np.unique(dataset[:,-1]))\n",
    "    true_values , predicted_values  = k_fold(train_data,test_data)\n",
    "    \n",
    "    n = len(labels)\n",
    "    matrix = np.zeros((n,n), dtype=int)\n",
    "    for a,b in zip(true_values , predicted_values):\n",
    "        x = labels.index(a)\n",
    "        y = labels.index(b)\n",
    "        matrix[x][y] = matrix[x][y]+1\n",
    "    \n",
    "    for i in range(len(labels)):\n",
    "        print(labels[i])\n",
    "        tp = matrix[i][i]\n",
    "        print(\"True Positive : \",tp)\n",
    "        fp = sum(matrix[i])-tp\n",
    "        print(\"False Positive : \",fp)\n",
    "        fn = 0\n",
    "        for j in range(matrix.shape[0]):\n",
    "            fn+=matrix[j][i]\n",
    "        fn = fn - tp\n",
    "        print(\"False Negative : \",fn)\n",
    "        tn = np.sum(matrix) - tp - fp - fn\n",
    "        print(\"True Negative : \",tn)\n",
    "        print(\"Precision : \", tp/(tp+fp))\n",
    "        print(\"Recall : \", tp/(tp+fn))\n",
    "        print(\"Accuracy : \", (tp+tn)/len(test_data))\n",
    "        print(\"False negative rate : \", fn/(fn+tp))\n",
    "        print(\"False positive rate : \", fp/(fp+tn))\n",
    "        print()\n",
    "   \n",
    "    \n",
    "    \n",
    "    df_cm = pd.DataFrame(matrix, (i for i in labels) , (i for i in labels))\n",
    "    sn.heatmap(df_cm, annot=True)\n",
    "    plt.show()\n",
    "    \n",
    "    \n"
   ]
  },
  {
   "cell_type": "code",
   "execution_count": 231,
   "id": "alpine-snapshot",
   "metadata": {},
   "outputs": [
    {
     "name": "stdout",
     "output_type": "stream",
     "text": [
      "setosa\n",
      "True Positive :  10\n",
      "False Positive :  0\n",
      "False Negative :  0\n",
      "True Negative :  20\n",
      "Precision :  1.0\n",
      "Recall :  1.0\n",
      "Accuracy :  1.0\n",
      "False negative rate :  0.0\n",
      "False positive rate :  0.0\n",
      "\n",
      "versicolor\n",
      "True Positive :  10\n",
      "False Positive :  2\n",
      "False Negative :  0\n",
      "True Negative :  18\n",
      "Precision :  0.8333333333333334\n",
      "Recall :  1.0\n",
      "Accuracy :  0.9333333333333333\n",
      "False negative rate :  0.0\n",
      "False positive rate :  0.1\n",
      "\n",
      "virginica\n",
      "True Positive :  8\n",
      "False Positive :  0\n",
      "False Negative :  2\n",
      "True Negative :  20\n",
      "Precision :  1.0\n",
      "Recall :  0.8\n",
      "Accuracy :  0.9333333333333333\n",
      "False negative rate :  0.2\n",
      "False positive rate :  0.0\n",
      "\n"
     ]
    },
    {
     "data": {
      "image/png": "[encoded data removed]",
      "text/plain": [
       "<Figure size 432x288 with 2 Axes>"
      ]
     },
     "metadata": {},
     "output_type": "display_data"
    }
   ],
   "source": [
    "confusion_matrix_fun('iris.csv')"
   ]
  },
  {
   "cell_type": "code",
   "execution_count": 232,
   "id": "vulnerable-birmingham",
   "metadata": {},
   "outputs": [
    {
     "name": "stdout",
     "output_type": "stream",
     "text": [
      "1.0\n",
      "True Positive :  75\n",
      "False Positive :  12\n",
      "False Negative :  24\n",
      "True Negative :  6\n",
      "Precision :  0.8620689655172413\n",
      "Recall :  0.7575757575757576\n",
      "Accuracy :  0.6923076923076923\n",
      "False negative rate :  0.24242424242424243\n",
      "False positive rate :  0.6666666666666666\n",
      "\n",
      "2.0\n",
      "True Positive :  6\n",
      "False Positive :  24\n",
      "False Negative :  12\n",
      "True Negative :  75\n",
      "Precision :  0.2\n",
      "Recall :  0.3333333333333333\n",
      "Accuracy :  0.6923076923076923\n",
      "False negative rate :  0.6666666666666666\n",
      "False positive rate :  0.24242424242424243\n",
      "\n"
     ]
    },
    {
     "data": {
      "image/png": "[encoded data removed]",
      "text/plain": [
       "<Figure size 432x288 with 2 Axes>"
      ]
     },
     "metadata": {},
     "output_type": "display_data"
    }
   ],
   "source": [
    "confusion_matrix_fun('indian_liver_patient.csv')"
   ]
  },
  {
   "cell_type": "code",
   "execution_count": 233,
   "id": "orange-moses",
   "metadata": {},
   "outputs": [
    {
     "name": "stdout",
     "output_type": "stream",
     "text": [
      "b\n",
      "True Positive :  11\n",
      "False Positive :  8\n",
      "False Negative :  2\n",
      "True Negative :  50\n",
      "Precision :  0.5789473684210527\n",
      "Recall :  0.8461538461538461\n",
      "Accuracy :  0.8591549295774648\n",
      "False negative rate :  0.15384615384615385\n",
      "False positive rate :  0.13793103448275862\n",
      "\n",
      "g\n",
      "True Positive :  50\n",
      "False Positive :  2\n",
      "False Negative :  8\n",
      "True Negative :  11\n",
      "Precision :  0.9615384615384616\n",
      "Recall :  0.8620689655172413\n",
      "Accuracy :  0.8591549295774648\n",
      "False negative rate :  0.13793103448275862\n",
      "False positive rate :  0.15384615384615385\n",
      "\n"
     ]
    },
    {
     "data": {
      "image/png": "[encoded data removed]",
      "text/plain": [
       "<Figure size 432x288 with 2 Axes>"
      ]
     },
     "metadata": {},
     "output_type": "display_data"
    }
   ],
   "source": [
    "confusion_matrix_fun('Class_Ionosphere.csv')"
   ]
  },
  {
   "cell_type": "code",
   "execution_count": null,
   "id": "explicit-target",
   "metadata": {},
   "outputs": [],
   "source": []
  }
 ],
 "metadata": {
  "kernelspec": {
   "display_name": "Python 3",
   "language": "python",
   "name": "python3"
  },
  "language_info": {
   "codemirror_mode": {
    "name": "ipython",
    "version": 3
   },
   "file_extension": ".py",
   "mimetype": "text/x-python",
   "name": "python",
   "nbconvert_exporter": "python",
   "pygments_lexer": "ipython3",
   "version": "3.9.1"
  }
 },
 "nbformat": 4,
 "nbformat_minor": 5
}
