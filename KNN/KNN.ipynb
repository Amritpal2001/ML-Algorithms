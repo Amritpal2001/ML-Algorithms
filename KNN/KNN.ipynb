{
 "cells": [
  {
   "cell_type": "code",
   "execution_count": 220,
   "id": "south-broad",
   "metadata": {},
   "outputs": [],
   "source": [
    "import pandas as pd\n",
    "import numpy as np\n",
    "import matplotlib.pyplot as plt\n",
    "from math import sqrt"
   ]
  },
  {
   "cell_type": "code",
   "execution_count": 221,
   "id": "romantic-lodge",
   "metadata": {},
   "outputs": [],
   "source": [
    "dfx = pd.read_csv('/Users/amritpalsingh/Downloads/Extra/iris.csv')\n"
   ]
  },
  {
   "cell_type": "code",
   "execution_count": 222,
   "id": "given-supervision",
   "metadata": {
    "scrolled": true
   },
   "outputs": [],
   "source": [
    "dataset = dfx.values\n",
    "train_data = dataset[:30]\n",
    "train_data = np.append(train_data,dataset[50:80],axis=0)\n",
    "train_data = np.append(train_data,dataset[100:140],axis=0)\n",
    "\n",
    "test_data = dataset[30:50,]\n",
    "test_data = np.append(test_data,dataset[80:100,],axis=0)\n",
    "test_data = np.append(test_data,dataset[140:150,],axis=0)\n",
    "\n",
    "true_values = test_data[:,-1]\n",
    "test_data = test_data[:,:4]"
   ]
  },
  {
   "cell_type": "code",
   "execution_count": 223,
   "id": "described-maximum",
   "metadata": {},
   "outputs": [],
   "source": [
    "def get_distance(row1, row2):\n",
    "    dis = 0.0\n",
    "    for i in range(len(row1)-1):\n",
    "        dis+=(row1[i] - row2[i])**2\n",
    "    return sqrt(dis)"
   ]
  },
  {
   "cell_type": "code",
   "execution_count": 224,
   "id": "embedded-weekend",
   "metadata": {},
   "outputs": [],
   "source": [
    "def get_neighbours(data , test_row , k):\n",
    "    distances=[]\n",
    "    for i in data:\n",
    "        dis = get_distance(test_row, i)\n",
    "        distances.append((i,dis))\n",
    "    distances.sort(key = lambda x: x[1])\n",
    "    neighbours = []\n",
    "    for i in range(k):\n",
    "        neighbours.append(distances[i][0])\n",
    "    return neighbours\n",
    "    "
   ]
  },
  {
   "cell_type": "code",
   "execution_count": 225,
   "id": "rational-worse",
   "metadata": {},
   "outputs": [],
   "source": [
    "def knn(train_data , test_row , k):\n",
    "    neighbours = get_neighbours(train_data , test_row,k)\n",
    "    output_values = [row[-1] for row in neighbours]\n",
    "    prediction = max(set(output_values), key=output_values.count)\n",
    "    return prediction\n",
    "    "
   ]
  },
  {
   "cell_type": "code",
   "execution_count": 229,
   "id": "fifty-westminster",
   "metadata": {},
   "outputs": [],
   "source": [
    "X = []\n",
    "Y = []\n",
    "for j in range(1,101):\n",
    "    count = 0\n",
    "    X.append(j)\n",
    "    for i in range (len(test_data)):\n",
    "        res = knn(train_data , test_data[i] ,j)\n",
    "        if true_values[i]== res:\n",
    "            count+=1\n",
    "    Y.append(count/len(test_data)*100)\n"
   ]
  },
  {
   "cell_type": "code",
   "execution_count": 230,
   "id": "lined-cliff",
   "metadata": {},
   "outputs": [
    {
     "data": {
      "image/png": "[encoded data removed]",
      "text/plain": [
       "<Figure size 576x396 with 1 Axes>"
      ]
     },
     "metadata": {},
     "output_type": "display_data"
    }
   ],
   "source": [
    "plt.plot(X,Y)\n",
    "plt.title('Accuracy of KNN algorithm for different values of K')\n",
    "plt.xlabel('K value')\n",
    "plt.ylabel('Accuracy (%)')\n",
    "plt.show()"
   ]
  },
  {
   "cell_type": "code",
   "execution_count": null,
   "id": "infectious-channel",
   "metadata": {},
   "outputs": [],
   "source": []
  }
 ],
 "metadata": {
  "kernelspec": {
   "display_name": "Python 3",
   "language": "python",
   "name": "python3"
  },
  "language_info": {
   "codemirror_mode": {
    "name": "ipython",
    "version": 3
   },
   "file_extension": ".py",
   "mimetype": "text/x-python",
   "name": "python",
   "nbconvert_exporter": "python",
   "pygments_lexer": "ipython3",
   "version": "3.9.1"
  }
 },
 "nbformat": 4,
 "nbformat_minor": 5
}
